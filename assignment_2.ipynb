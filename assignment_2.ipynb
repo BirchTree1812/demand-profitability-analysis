{
 "cells": [
  {
   "cell_type": "markdown",
   "metadata": {},
   "source": [
    "# Assignment 2"
   ]
  },
  {
   "cell_type": "markdown",
   "metadata": {},
   "source": [
    "1.  What are the own price elasticites of the three products? (0.5 points)"
   ]
  },
  {
   "cell_type": "markdown",
   "metadata": {},
   "source": [
    "Elasticity 1 = -2.5\n",
    "\n",
    "Elasticity 2 = -1.5\n",
    "\n",
    "Elasticity 3 = -1.2\n"
   ]
  },
  {
   "cell_type": "markdown",
   "metadata": {},
   "source": [
    "2. Write down a matrix of price elasticities. (1 point) "
   ]
  },
  {
   "cell_type": "markdown",
   "metadata": {},
   "source": [
    "$$\\begin{bmatrix} \n",
    "-2.5 & 1.5 & 1.2 \\\\\n",
    "0.7 & -1.5 & 0.5 \\\\\n",
    "0.7 & 0.4 & -1.2\n",
    "\\end{bmatrix}$$"
   ]
  },
  {
   "cell_type": "markdown",
   "metadata": {},
   "source": [
    "3. Now assume that product 1 increases its price by γ1 = 5%, product 2 keeps its price \n",
    "constant (γ2 = 0) and product 3 reduces its price by γ3 = 15%"
   ]
  },
  {
   "cell_type": "markdown",
   "metadata": {},
   "source": [
    "a.  First, do this using a calculator. Please show the formulae used and the steps \n",
    "in your calculation. (1.5 points) "
   ]
  },
  {
   "cell_type": "markdown",
   "metadata": {},
   "source": [
    "Suppose that Q_10, Q_20, Q_30 are the initial quantities demanded for products 1, 2, and 3, which are all equal to 1. The basic formula for quantity change percentage is $\\Delta Q_i\\% = \\frac{\\Delta Q_{i1} - \\Delta Q_{i0}}{\\Delta Q_{i0}}=\\Delta P_i\\% \\cdot \\eta_i$. In that case:\n",
    "$$\\Delta Q_1\\% = \\frac{\\Delta Q_{11} - \\Delta Q_{10}}{\\Delta Q_{10}}=\\Delta P_1\\% \\cdot \\eta_1 = 0.05 \\cdot (-2.5) = -0.125=-12.5\\%$$\n",
    "$$\\frac{\\Delta Q_{11}}{\\Delta Q_{10}}=\\Delta Q_1\\%+\\Delta Q_{10}=-0.125+1=0.875$$\n",
    "$$\\Delta Q_2\\% = \\Delta P_2\\% \\cdot \\eta_2 = 0 \\cdot -1.5 = 0\\%$$\n",
    "$$\\frac{\\Delta Q_{21}}{\\Delta Q_{20}}=\\Delta Q_2\\%+\\Delta Q_{20}=0+1=1$$\n",
    "$$\\Delta Q_3\\% = \\Delta P_3\\% \\cdot \\eta_3 = -0.15 \\cdot (-1.2) = 0.18=18\\%$$\n",
    "$$\\frac{\\Delta Q_{31}}{\\Delta Q_{30}}=\\Delta Q_3\\%+\\Delta Q_{30}=0.18+1=1.18$$"
   ]
  },
  {
   "cell_type": "markdown",
   "metadata": {},
   "source": [
    "b.  Interpret and discuss why each of these changes is happening. Which \n",
    "products see an increase in demand and which see a decrease (and why)? \n",
    "(1.5 points)\n",
    "\n",
    "Product 1 sees a decrease in quantity demanded by 12.5% because its price _increased_.\n",
    "\n",
    "Product 2 sees no change in quantity demanded by 0% because the price _did not change_.\n",
    "\n",
    "Product 3 sees an increase in quantity demanded by 18% because its price _decreased_.\n"
   ]
  },
  {
   "cell_type": "markdown",
   "metadata": {},
   "source": [
    "Write a function that takes as input – (1) the price changes for the three \n",
    "products (γ1, γ2, γ3) and (2) price elasticities and cross price elasticties for \n",
    "all the products, and gives as output the the ratio of the new to old quantities\n",
    "for each product. (2 points)\n",
    "\n",
    "\n"
   ]
  },
  {
   "cell_type": "code",
   "execution_count": 39,
   "metadata": {},
   "outputs": [],
   "source": [
    "def ratio_function(gamma, elast):\n",
    "    \"\"\"This function takes as input the price change for a product (gamma) \n",
    "    and the price elasticity for that product (elast) and gives as output the ratio \n",
    "    of the new to old quantities for the product.\"\"\"\n",
    "    # Calculate the ratio of the new to old quantities for the product\n",
    "    if not (-1 < gamma < 1):\n",
    "        raise ValueError(\"The price change for this product is unreasonably high(+100%)/low(-100%)\")\n",
    "    ratio = (gamma)*elast + 1\n",
    "    if ratio < 0:\n",
    "        raise ValueError(\"The ratio of the new to old quantities for this product is less than 0\")\n",
    "    return round(ratio, 3)\n"
   ]
  },
  {
   "cell_type": "markdown",
   "metadata": {},
   "source": [
    "d.  Evaluate the function at the values of γ1, γ2, γ3 specified earlier and store the \n",
    "results in an array named quantitychange. Check if the results from the \n",
    "function are the same as that in Step 3a. (1 point) \n"
   ]
  },
  {
   "cell_type": "code",
   "execution_count": 40,
   "metadata": {},
   "outputs": [
    {
     "name": "stdout",
     "output_type": "stream",
     "text": [
      "{'ratio_1': 0.875, 'ratio_2': 1.0, 'ratio_3': 1.18}\n"
     ]
    }
   ],
   "source": [
    "ratio_1 = ratio_function(0.05, -2.5)\n",
    "ratio_2 = ratio_function(0, -1.5)\n",
    "ratio_3 = ratio_function(-0.15, -1.2)\n",
    "quantitychange = {\"ratio_1\": ratio_1, \"ratio_2\": ratio_2, \"ratio_3\": ratio_3}\n",
    "print(quantitychange)"
   ]
  },
  {
   "cell_type": "markdown",
   "metadata": {},
   "source": [
    "The results are the same as that in Step 3a."
   ]
  },
  {
   "cell_type": "markdown",
   "metadata": {},
   "source": [
    "4.  Using the same price changes as in the previous question, calculate what happens \n",
    "to the profits of the three products. Specifically: \n",
    "a.  Calculate (using a calculator) the ratio of the new profit to old profit for all \n",
    "three products, i.e., $\\frac{\\pi_{11}}{\\pi_{10}}$, $\\frac{\\pi_{21}}{\\pi_{20}}$, and $\\frac{\\pi_{31}}{\\pi_{30}}$, and derive the percentage increase or decrease in profit for all three products. Please show the formulae used and \n",
    "the steps in your calculation.  (1.5 points) "
   ]
  },
  {
   "cell_type": "markdown",
   "metadata": {},
   "source": [
    "The base profit formula is: $\\pi_{i0}=Q_{i0}*(P_{i0}-C_1)$. Therefore, to calculate the ratio of the new profit to old profit for each product:\n",
    "$$\\frac{\\pi_{11}}{\\pi_{10}}=\\frac{Q_{11}*(P_{11}-C_1)}{Q_{10}*(P_{10}-C_1)}=\\frac{Q_{11}}{Q_{10}}*\\frac{P_{11}-C_1}{P_{10}-C_1}=\\frac{\\Delta Q_{11}}{\\Delta Q_{10}}*\\frac{P_{11}-C_1}{P_{10}-C_1}=0.875*\\frac{2.1-0.5}{2-0.5}=0.875*1.067=93.3\\%$$\n",
    "$$\\frac{\\pi_{21}}{\\pi_{20}}=\\frac{Q_{21}*(P_{21}-C_2)}{Q_{20}*(P_{20}-C_2)}=\\frac{Q_{21}}{Q_{20}}*\\frac{P_{21}-C_2}{P_{20}-C_2}=\\frac{\\Delta Q_{21}}{\\Delta Q_{20}}*\\frac{P_{21}-C_2}{P_{20}-C_2}=1*\\frac{1.75-0.75}{1.75-0.75}=1*1=100\\%$$\n",
    "$$\\frac{\\pi_{31}}{\\pi_{30}}=\\frac{Q_{31}*(P_{31}-C_3)}{Q_{30}*(P_{30}-C_3)}=\\frac{Q_{31}}{Q_{30}}*\\frac{P_{31}-C_3}{P_{30}-C_3}=\\frac{\\Delta Q_{31}}{\\Delta Q_{30}}*\\frac{P_{31}-C_3}{P_{30}-C_3}=1.18*\\frac{1.275-0.9}{1.5-0.9}=1.18*0.625=73.7\\%$$"
   ]
  },
  {
   "cell_type": "markdown",
   "metadata": {},
   "source": [
    "b.  Interpret and discuss why each of these changes is happening. Which \n",
    "products benefit from the price changes and why (or why not)? Is product 3’s \n",
    "price cut justified? (1.5 points)\n",
    "\n",
    "Product 1 doesn't benefit from the price change because its profit decreased to 93.3% of its old profit.\n",
    "\n",
    "Product 2 doesn't benefit from the price change because its profit stayed the same.\n",
    "\n",
    "Product 3's price cut is not justified because its profit decreased to 73.8% of its old profit. And the price cut for product 3 is not justified because its price elasticity is not high enough."
   ]
  },
  {
   "cell_type": "markdown",
   "metadata": {},
   "source": [
    "c.  Now write a function that takes as input the price change percentages (γ1, \n",
    "γ2, γ3), the price and price elasticities for the three products, the retail \n",
    "margin (r), and the marginal costs C1, C2, C3 and gives as output the ratios \n",
    "of new to old profits: π11 , π21 , π31 . (Note: You can also simplify the \n",
    "function by simply using the vector quantitychange that you stored in \n",
    "Question 3 and thereby avoid using price elasticities in this function. This is \n",
    "not necessary, but you may find that this simplifies your function \n",
    "specification significantly. (2 points)"
   ]
  },
  {
   "cell_type": "code",
   "execution_count": 41,
   "metadata": {},
   "outputs": [],
   "source": [
    "def profit_function(ratio_name, gamma, price, marginal_cost):\n",
    "    \"\"\"This function takes as input the quantity change ratio and price change for a product (quantitychange[ratio_name], gamma) \n",
    "    and the price and marginal costs for that product (price, marginal_cost) \n",
    "    and gives as output the ratio of the new to old profit for the product.\"\"\"\n",
    "    profit_ratio = quantitychange[ratio_name]*(price*(1+gamma)-marginal_cost)/(price-marginal_cost)\n",
    "    if marginal_cost < 0:\n",
    "        raise ValueError(\"The marginal cost for this product is unreasonably low\")\n",
    "    return round(profit_ratio, 3)\n"
   ]
  },
  {
   "cell_type": "markdown",
   "metadata": {},
   "source": [
    "d.  Evaluate the function at the values specified earlier and store the results in \n",
    "an array named profitchange. Check if the results from the function are the \n",
    "same as that from in Step 4a. (1 point) "
   ]
  },
  {
   "cell_type": "code",
   "execution_count": 42,
   "metadata": {},
   "outputs": [
    {
     "name": "stdout",
     "output_type": "stream",
     "text": [
      "Profit for: \n",
      "product 1 - 0.933 \n",
      "product 2 - 1.0 \n",
      "product 3 - 0.737\n"
     ]
    }
   ],
   "source": [
    "# insert the aforementioned values into the function 3 times. Print out the resulting profits\n",
    "profitchange_1 = profit_function(\"ratio_1\", 0.05, 2, 0.5)\n",
    "profitchange_2 = profit_function(\"ratio_2\", 0, 1.75, 0.75)\n",
    "profitchange_3 = profit_function(\"ratio_3\", -0.15, 1.5, 0.9)\n",
    "print(\"Profit for:\", \"\\nproduct 1 -\", profitchange_1, \"\\nproduct 2 -\", profitchange_2, \"\\nproduct 3 -\", profitchange_3)"
   ]
  },
  {
   "cell_type": "markdown",
   "metadata": {},
   "source": [
    "The results are the same as those from Step 4a."
   ]
  },
  {
   "cell_type": "markdown",
   "metadata": {},
   "source": [
    "5.  Can you calculate the highest marginal cost at which this price cut is justified for \n",
    "product 3? (1.5 point) "
   ]
  },
  {
   "cell_type": "code",
   "execution_count": 43,
   "metadata": {},
   "outputs": [
    {
     "name": "stdout",
     "output_type": "stream",
     "text": [
      "0.0 is the highest marginal cost at which this price cut is justified for product 3\n"
     ]
    }
   ],
   "source": [
    "def marginal_cost_goalseek(gamma, price, marginal_cost):\n",
    "    \"\"\"This is an iterative function that finds the highest marginal cost at which this price cut is justified for product 3. \n",
    "    It works by decreasing the marginal cost until the profit ratio is 1, or the marginal cost is 0. \n",
    "    \\nIts inputs are:\n",
    "    ---\n",
    "    + price change(gamma) \n",
    "    + price \n",
    "    + marginal cost\"\"\"\n",
    "    profitchange = profit_function(\"ratio_3\", gamma, price, marginal_cost)\n",
    "    while profitchange < 1:\n",
    "        marginal_cost -= 0.1\n",
    "        profitchange = profit_function(\"ratio_3\", gamma, price, marginal_cost)\n",
    "    return marginal_cost\n",
    "marginal_cost_rounded = round(marginal_cost_goalseek(-0.15, 1.5, 0.9), 2)\n",
    "print(\"According to the iterative function,\",marginal_cost_rounded, \"is the highest marginal cost at which this price cut is justified for product 3\")\n"
   ]
  },
  {
   "cell_type": "markdown",
   "metadata": {},
   "source": [
    "The price cut is justified when the profit ratio equals 1:\n",
    "\n",
    "$\\frac{\\pi_{31}}{\\pi_{30}} = 1$\n",
    "\n",
    "$\\frac{Q_{31}}{Q_{30}} \\cdot \\frac{P_{31} - C_3}{P_{30} - C_3} = 1$\n",
    "\n",
    "We know:\n",
    "\n",
    "$P_{31} = P_{30} \\cdot (1 - 0.15)$ [15% price cut]\n",
    "\n",
    "$\\frac{Q_{31}}{Q_{30}}$ [calculated from demand system]\n",
    "\n",
    "$P_{30} = 1.50$ [original price]\n",
    "\n",
    "This gives us an equation:\n",
    "\n",
    "\n",
    "$$\\frac{Q_{31}}{Q_{30}} \\cdot \\frac{0.85P_{30} - C_3}{P_{30} - C_3} = 1$$\n",
    "$$1.18 \\cdot \\frac{0.85 \\cdot 1.5 - C_3}{1.5 - C_3} = 1$$\n",
    "$$1.18 \\cdot \\frac{1.275 - C_3}{1.5 - C_3} = 1$$\n",
    "$$1.18 \\cdot \\frac{1.275 - C_3}{1.5 - C_3} = 1$$\n",
    "$$1.18 \\cdot (1.275 - C_3) = 1.5 - C_3$$\n",
    "$$1.5045 - 1.18C_3 = 1.5 - C_3$$\n",
    "$$0.0045 = 0.18C_3$$\n",
    "$$C_3 = \\frac{0.0045}{0.18} = 0.025$$\n",
    "\n",
    "Thus, the marginal cost accordingo to the algebraic solution is 0.025. Slightly higher than the iterative solution, but close enough.\n",
    "\n"
   ]
  },
  {
   "cell_type": "markdown",
   "metadata": {},
   "source": [
    "Only with marginal cost 0.025 at most, the price cut is justified. This makes sense, since it's within the boundary of economic feasibility."
   ]
  }
 ],
 "metadata": {
  "kernelspec": {
   "display_name": "Python 3",
   "language": "python",
   "name": "python3"
  },
  "language_info": {
   "codemirror_mode": {
    "name": "ipython",
    "version": 3
   },
   "file_extension": ".py",
   "mimetype": "text/x-python",
   "name": "python",
   "nbconvert_exporter": "python",
   "pygments_lexer": "ipython3",
   "version": "3.12.3"
  }
 },
 "nbformat": 4,
 "nbformat_minor": 2
}
